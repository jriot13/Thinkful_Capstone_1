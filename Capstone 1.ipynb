{
 "cells": [
  {
   "cell_type": "code",
   "execution_count": 29,
   "metadata": {},
   "outputs": [],
   "source": [
    "import numpy as np\n",
    "import pandas as pd\n",
    "import scipy\n",
    "import matplotlib.pyplot as plt\n",
    "%matplotlib inline"
   ]
  },
  {
   "cell_type": "markdown",
   "metadata": {},
   "source": [
    "Is crime always more of problem with larger populations? Is there a type of crime that reigns supreme? Do firearm crimes occur as frequently as they seem to?\n",
    "\n",
    "In today's society, there are many troubling obstacles we find ourselves navigating through. Be it the everyday grind of work, the constant threat of our climate, or even just trying to make it through another political pres conference thinking how far back we will regress. With all of these concerns, it is easy to say one will find a small town with few threats to live. However, are these towns really so safe? With the endless barrage of overwellming gun violence, the rates at which other crimes occur can be forgetable. Here, we will explore if that small town is really that safe, are gun crimes that frequent of a crime compared to other offenses, if not which one, and when will it truly be known that great writing will always trump explosions. well, maybe not the last one, this time.\n",
    "\n",
    "Information on crimes and population will be taken from Data.gov and will consist of 63 different cities in the state of New York. Although the data dates back to 1990, only numbers from 2017 will be used in order to keep with todays possible trends."
   ]
  },
  {
   "cell_type": "code",
   "execution_count": 30,
   "metadata": {},
   "outputs": [
    {
     "data": {
      "text/html": [
       "<div>\n",
       "<style scoped>\n",
       "    .dataframe tbody tr th:only-of-type {\n",
       "        vertical-align: middle;\n",
       "    }\n",
       "\n",
       "    .dataframe tbody tr th {\n",
       "        vertical-align: top;\n",
       "    }\n",
       "\n",
       "    .dataframe thead th {\n",
       "        text-align: right;\n",
       "    }\n",
       "</style>\n",
       "<table border=\"1\" class=\"dataframe\">\n",
       "  <thead>\n",
       "    <tr style=\"text-align: right;\">\n",
       "      <th></th>\n",
       "      <th>County</th>\n",
       "      <th>Year</th>\n",
       "      <th>Population</th>\n",
       "      <th>Index Count</th>\n",
       "      <th>Index Rate</th>\n",
       "      <th>Violent Count</th>\n",
       "      <th>Violent Rate</th>\n",
       "      <th>Property Count</th>\n",
       "      <th>Property Rate</th>\n",
       "      <th>Firearm Count</th>\n",
       "      <th>Firearm Rate</th>\n",
       "    </tr>\n",
       "  </thead>\n",
       "  <tbody>\n",
       "    <tr>\n",
       "      <th>0</th>\n",
       "      <td>Albany</td>\n",
       "      <td>2017</td>\n",
       "      <td>310352.0</td>\n",
       "      <td>8777</td>\n",
       "      <td>2828.1</td>\n",
       "      <td>1161</td>\n",
       "      <td>374.1</td>\n",
       "      <td>7616</td>\n",
       "      <td>2454.0</td>\n",
       "      <td>145.0</td>\n",
       "      <td>46.7</td>\n",
       "    </tr>\n",
       "    <tr>\n",
       "      <th>1</th>\n",
       "      <td>Allegany</td>\n",
       "      <td>2017</td>\n",
       "      <td>46878.0</td>\n",
       "      <td>507</td>\n",
       "      <td>1081.5</td>\n",
       "      <td>79</td>\n",
       "      <td>168.5</td>\n",
       "      <td>428</td>\n",
       "      <td>913.0</td>\n",
       "      <td>6.0</td>\n",
       "      <td>12.8</td>\n",
       "    </tr>\n",
       "    <tr>\n",
       "      <th>2</th>\n",
       "      <td>Bronx</td>\n",
       "      <td>2017</td>\n",
       "      <td>1470074.0</td>\n",
       "      <td>35507</td>\n",
       "      <td>2415.3</td>\n",
       "      <td>12534</td>\n",
       "      <td>852.6</td>\n",
       "      <td>22973</td>\n",
       "      <td>1562.7</td>\n",
       "      <td>1270.0</td>\n",
       "      <td>86.4</td>\n",
       "    </tr>\n",
       "    <tr>\n",
       "      <th>3</th>\n",
       "      <td>Broome</td>\n",
       "      <td>2017</td>\n",
       "      <td>194923.0</td>\n",
       "      <td>5568</td>\n",
       "      <td>2856.5</td>\n",
       "      <td>694</td>\n",
       "      <td>356.0</td>\n",
       "      <td>4874</td>\n",
       "      <td>2500.5</td>\n",
       "      <td>72.0</td>\n",
       "      <td>36.9</td>\n",
       "    </tr>\n",
       "    <tr>\n",
       "      <th>4</th>\n",
       "      <td>Cattaraugus</td>\n",
       "      <td>2017</td>\n",
       "      <td>75611.0</td>\n",
       "      <td>1158</td>\n",
       "      <td>1531.5</td>\n",
       "      <td>131</td>\n",
       "      <td>173.3</td>\n",
       "      <td>1027</td>\n",
       "      <td>1358.3</td>\n",
       "      <td>19.0</td>\n",
       "      <td>25.1</td>\n",
       "    </tr>\n",
       "  </tbody>\n",
       "</table>\n",
       "</div>"
      ],
      "text/plain": [
       "        County  Year  Population  Index Count  Index Rate  Violent Count  \\\n",
       "0       Albany  2017    310352.0         8777      2828.1           1161   \n",
       "1     Allegany  2017     46878.0          507      1081.5             79   \n",
       "2        Bronx  2017   1470074.0        35507      2415.3          12534   \n",
       "3       Broome  2017    194923.0         5568      2856.5            694   \n",
       "4  Cattaraugus  2017     75611.0         1158      1531.5            131   \n",
       "\n",
       "   Violent Rate  Property Count  Property Rate  Firearm Count  Firearm Rate  \n",
       "0         374.1            7616         2454.0          145.0          46.7  \n",
       "1         168.5             428          913.0            6.0          12.8  \n",
       "2         852.6           22973         1562.7         1270.0          86.4  \n",
       "3         356.0            4874         2500.5           72.0          36.9  \n",
       "4         173.3            1027         1358.3           19.0          25.1  "
      ]
     },
     "execution_count": 30,
     "metadata": {},
     "output_type": "execute_result"
    }
   ],
   "source": [
    "#Here I will be importing the data set to be used for my research\n",
    "CrimeStudy = pd.read_csv('C:\\\\Users\\\\JaRiot\\\\Documents\\\\NY State Crime.csv')\n",
    "CrimeStudy.head()"
   ]
  },
  {
   "cell_type": "markdown",
   "metadata": {},
   "source": [
    "Due to the sheer amount of data this spreadsheet presents, I will extract only the most recent data reported. This is to keep the numbers more relevent to todays while allowing for a future comparison to the past."
   ]
  },
  {
   "cell_type": "code",
   "execution_count": 31,
   "metadata": {},
   "outputs": [
    {
     "data": {
      "text/html": [
       "<div>\n",
       "<style scoped>\n",
       "    .dataframe tbody tr th:only-of-type {\n",
       "        vertical-align: middle;\n",
       "    }\n",
       "\n",
       "    .dataframe tbody tr th {\n",
       "        vertical-align: top;\n",
       "    }\n",
       "\n",
       "    .dataframe thead th {\n",
       "        text-align: right;\n",
       "    }\n",
       "</style>\n",
       "<table border=\"1\" class=\"dataframe\">\n",
       "  <thead>\n",
       "    <tr style=\"text-align: right;\">\n",
       "      <th></th>\n",
       "      <th>County</th>\n",
       "      <th>Year</th>\n",
       "      <th>Population</th>\n",
       "      <th>Index Count</th>\n",
       "      <th>Index Rate</th>\n",
       "      <th>Violent Count</th>\n",
       "      <th>Violent Rate</th>\n",
       "      <th>Property Count</th>\n",
       "      <th>Property Rate</th>\n",
       "      <th>Firearm Count</th>\n",
       "      <th>Firearm Rate</th>\n",
       "    </tr>\n",
       "  </thead>\n",
       "  <tbody>\n",
       "    <tr>\n",
       "      <th>0</th>\n",
       "      <td>Albany</td>\n",
       "      <td>2017</td>\n",
       "      <td>310352.0</td>\n",
       "      <td>8777</td>\n",
       "      <td>2828.1</td>\n",
       "      <td>1161</td>\n",
       "      <td>374.1</td>\n",
       "      <td>7616</td>\n",
       "      <td>2454.0</td>\n",
       "      <td>145.0</td>\n",
       "      <td>46.7</td>\n",
       "    </tr>\n",
       "    <tr>\n",
       "      <th>1</th>\n",
       "      <td>Allegany</td>\n",
       "      <td>2017</td>\n",
       "      <td>46878.0</td>\n",
       "      <td>507</td>\n",
       "      <td>1081.5</td>\n",
       "      <td>79</td>\n",
       "      <td>168.5</td>\n",
       "      <td>428</td>\n",
       "      <td>913.0</td>\n",
       "      <td>6.0</td>\n",
       "      <td>12.8</td>\n",
       "    </tr>\n",
       "    <tr>\n",
       "      <th>2</th>\n",
       "      <td>Bronx</td>\n",
       "      <td>2017</td>\n",
       "      <td>1470074.0</td>\n",
       "      <td>35507</td>\n",
       "      <td>2415.3</td>\n",
       "      <td>12534</td>\n",
       "      <td>852.6</td>\n",
       "      <td>22973</td>\n",
       "      <td>1562.7</td>\n",
       "      <td>1270.0</td>\n",
       "      <td>86.4</td>\n",
       "    </tr>\n",
       "    <tr>\n",
       "      <th>3</th>\n",
       "      <td>Broome</td>\n",
       "      <td>2017</td>\n",
       "      <td>194923.0</td>\n",
       "      <td>5568</td>\n",
       "      <td>2856.5</td>\n",
       "      <td>694</td>\n",
       "      <td>356.0</td>\n",
       "      <td>4874</td>\n",
       "      <td>2500.5</td>\n",
       "      <td>72.0</td>\n",
       "      <td>36.9</td>\n",
       "    </tr>\n",
       "    <tr>\n",
       "      <th>4</th>\n",
       "      <td>Cattaraugus</td>\n",
       "      <td>2017</td>\n",
       "      <td>75611.0</td>\n",
       "      <td>1158</td>\n",
       "      <td>1531.5</td>\n",
       "      <td>131</td>\n",
       "      <td>173.3</td>\n",
       "      <td>1027</td>\n",
       "      <td>1358.3</td>\n",
       "      <td>19.0</td>\n",
       "      <td>25.1</td>\n",
       "    </tr>\n",
       "  </tbody>\n",
       "</table>\n",
       "</div>"
      ],
      "text/plain": [
       "        County  Year  Population  Index Count  Index Rate  Violent Count  \\\n",
       "0       Albany  2017    310352.0         8777      2828.1           1161   \n",
       "1     Allegany  2017     46878.0          507      1081.5             79   \n",
       "2        Bronx  2017   1470074.0        35507      2415.3          12534   \n",
       "3       Broome  2017    194923.0         5568      2856.5            694   \n",
       "4  Cattaraugus  2017     75611.0         1158      1531.5            131   \n",
       "\n",
       "   Violent Rate  Property Count  Property Rate  Firearm Count  Firearm Rate  \n",
       "0         374.1            7616         2454.0          145.0          46.7  \n",
       "1         168.5             428          913.0            6.0          12.8  \n",
       "2         852.6           22973         1562.7         1270.0          86.4  \n",
       "3         356.0            4874         2500.5           72.0          36.9  \n",
       "4         173.3            1027         1358.3           19.0          25.1  "
      ]
     },
     "execution_count": 31,
     "metadata": {},
     "output_type": "execute_result"
    }
   ],
   "source": [
    "CrimeStudy.iloc[:62,:11]\n",
    "CrimeStudy.head()"
   ]
  },
  {
   "cell_type": "markdown",
   "metadata": {},
   "source": [
    "Now, I will use a scatter plot to show the differences in the populations of each county. From there, you will be presented with another graph showing the total crime count of each county. With both of these numbers, we can then take the total count to population ratio to see if a larger population always mean a higher crime rate."
   ]
  },
  {
   "cell_type": "code",
   "execution_count": 35,
   "metadata": {},
   "outputs": [
    {
     "data": {
      "image/png": "[encoded data removed]",
      "text/plain": [
       "<Figure size 1440x720 with 1 Axes>"
      ]
     },
     "metadata": {
      "needs_background": "light"
     },
     "output_type": "display_data"
    }
   ],
   "source": [
    "CrimeStudy.head(62)[0:62].plot(kind='bar', x='County', y='Population', figsize=(20,10))\n",
    "plt.ylabel('Population')\n",
    "plt.title('State of New York Crime Data: 2017')\n",
    "plt.show()"
   ]
  },
  {
   "cell_type": "markdown",
   "metadata": {},
   "source": [
    "This data set lacks a total count for each area. To calculate this, I will add the other counts and set them equal to a new string, Total Counts. After detering this value for each area, I can then present this data in the following graph."
   ]
  },
  {
   "cell_type": "code",
   "execution_count": 8,
   "metadata": {},
   "outputs": [],
   "source": [
    "CrimeStudy['Total Counts']=CrimeStudy['Index Count']+CrimeStudy['Violent Count']+CrimeStudy['Property Count']+CrimeStudy['Firearm Count']"
   ]
  },
  {
   "cell_type": "code",
   "execution_count": 9,
   "metadata": {},
   "outputs": [
    {
     "data": {
      "text/html": [
       "<div>\n",
       "<style scoped>\n",
       "    .dataframe tbody tr th:only-of-type {\n",
       "        vertical-align: middle;\n",
       "    }\n",
       "\n",
       "    .dataframe tbody tr th {\n",
       "        vertical-align: top;\n",
       "    }\n",
       "\n",
       "    .dataframe thead th {\n",
       "        text-align: right;\n",
       "    }\n",
       "</style>\n",
       "<table border=\"1\" class=\"dataframe\">\n",
       "  <thead>\n",
       "    <tr style=\"text-align: right;\">\n",
       "      <th></th>\n",
       "      <th>County</th>\n",
       "      <th>Year</th>\n",
       "      <th>Population</th>\n",
       "      <th>Index Count</th>\n",
       "      <th>Index Rate</th>\n",
       "      <th>Violent Count</th>\n",
       "      <th>Violent Rate</th>\n",
       "      <th>Property Count</th>\n",
       "      <th>Property Rate</th>\n",
       "      <th>Firearm Count</th>\n",
       "      <th>Firearm Rate</th>\n",
       "      <th>Total Counts</th>\n",
       "    </tr>\n",
       "  </thead>\n",
       "  <tbody>\n",
       "    <tr>\n",
       "      <th>0</th>\n",
       "      <td>Albany</td>\n",
       "      <td>2017</td>\n",
       "      <td>310352.0</td>\n",
       "      <td>8777</td>\n",
       "      <td>2828.1</td>\n",
       "      <td>1161</td>\n",
       "      <td>374.1</td>\n",
       "      <td>7616</td>\n",
       "      <td>2454.0</td>\n",
       "      <td>145.0</td>\n",
       "      <td>46.7</td>\n",
       "      <td>17699.0</td>\n",
       "    </tr>\n",
       "    <tr>\n",
       "      <th>1</th>\n",
       "      <td>Allegany</td>\n",
       "      <td>2017</td>\n",
       "      <td>46878.0</td>\n",
       "      <td>507</td>\n",
       "      <td>1081.5</td>\n",
       "      <td>79</td>\n",
       "      <td>168.5</td>\n",
       "      <td>428</td>\n",
       "      <td>913.0</td>\n",
       "      <td>6.0</td>\n",
       "      <td>12.8</td>\n",
       "      <td>1020.0</td>\n",
       "    </tr>\n",
       "    <tr>\n",
       "      <th>2</th>\n",
       "      <td>Bronx</td>\n",
       "      <td>2017</td>\n",
       "      <td>1470074.0</td>\n",
       "      <td>35507</td>\n",
       "      <td>2415.3</td>\n",
       "      <td>12534</td>\n",
       "      <td>852.6</td>\n",
       "      <td>22973</td>\n",
       "      <td>1562.7</td>\n",
       "      <td>1270.0</td>\n",
       "      <td>86.4</td>\n",
       "      <td>72284.0</td>\n",
       "    </tr>\n",
       "    <tr>\n",
       "      <th>3</th>\n",
       "      <td>Broome</td>\n",
       "      <td>2017</td>\n",
       "      <td>194923.0</td>\n",
       "      <td>5568</td>\n",
       "      <td>2856.5</td>\n",
       "      <td>694</td>\n",
       "      <td>356.0</td>\n",
       "      <td>4874</td>\n",
       "      <td>2500.5</td>\n",
       "      <td>72.0</td>\n",
       "      <td>36.9</td>\n",
       "      <td>11208.0</td>\n",
       "    </tr>\n",
       "    <tr>\n",
       "      <th>4</th>\n",
       "      <td>Cattaraugus</td>\n",
       "      <td>2017</td>\n",
       "      <td>75611.0</td>\n",
       "      <td>1158</td>\n",
       "      <td>1531.5</td>\n",
       "      <td>131</td>\n",
       "      <td>173.3</td>\n",
       "      <td>1027</td>\n",
       "      <td>1358.3</td>\n",
       "      <td>19.0</td>\n",
       "      <td>25.1</td>\n",
       "      <td>2335.0</td>\n",
       "    </tr>\n",
       "  </tbody>\n",
       "</table>\n",
       "</div>"
      ],
      "text/plain": [
       "        County  Year  Population  Index Count  Index Rate  Violent Count  \\\n",
       "0       Albany  2017    310352.0         8777      2828.1           1161   \n",
       "1     Allegany  2017     46878.0          507      1081.5             79   \n",
       "2        Bronx  2017   1470074.0        35507      2415.3          12534   \n",
       "3       Broome  2017    194923.0         5568      2856.5            694   \n",
       "4  Cattaraugus  2017     75611.0         1158      1531.5            131   \n",
       "\n",
       "   Violent Rate  Property Count  Property Rate  Firearm Count  Firearm Rate  \\\n",
       "0         374.1            7616         2454.0          145.0          46.7   \n",
       "1         168.5             428          913.0            6.0          12.8   \n",
       "2         852.6           22973         1562.7         1270.0          86.4   \n",
       "3         356.0            4874         2500.5           72.0          36.9   \n",
       "4         173.3            1027         1358.3           19.0          25.1   \n",
       "\n",
       "   Total Counts  \n",
       "0       17699.0  \n",
       "1        1020.0  \n",
       "2       72284.0  \n",
       "3       11208.0  \n",
       "4        2335.0  "
      ]
     },
     "execution_count": 9,
     "metadata": {},
     "output_type": "execute_result"
    }
   ],
   "source": [
    "CrimeStudy.head()"
   ]
  },
  {
   "cell_type": "code",
   "execution_count": 11,
   "metadata": {},
   "outputs": [
    {
     "data": {
      "image/png": "[encoded data removed]",
      "text/plain": [
       "<Figure size 1440x720 with 1 Axes>"
      ]
     },
     "metadata": {
      "needs_background": "light"
     },
     "output_type": "display_data"
    }
   ],
   "source": [
    "CrimeStudy.head(62)[0:62].plot(kind='bar', x='County', y='Total Counts', figsize=(20,10))\n",
    "plt.ylabel('Total Counts')\n",
    "plt.title('State of New York Crime Data: 2017')\n",
    "plt.show()"
   ]
  },
  {
   "cell_type": "markdown",
   "metadata": {},
   "source": [
    "What are the total crime counts vs. the population? Is crime committed at a higher rate in more populated areas of the state of New York?\n",
    "\n",
    "With the graph presented, we can get a clear view of the total crime count to population in the state of New York based on city (cities presented in data sheet). Also, by using the year 2017, one can assume that this data is the most accurate to today's counts. Add city names and colors"
   ]
  },
  {
   "cell_type": "code",
   "execution_count": 31,
   "metadata": {},
   "outputs": [
    {
     "data": {
      "text/html": [
       "<div>\n",
       "<style scoped>\n",
       "    .dataframe tbody tr th:only-of-type {\n",
       "        vertical-align: middle;\n",
       "    }\n",
       "\n",
       "    .dataframe tbody tr th {\n",
       "        vertical-align: top;\n",
       "    }\n",
       "\n",
       "    .dataframe thead th {\n",
       "        text-align: right;\n",
       "    }\n",
       "</style>\n",
       "<table border=\"1\" class=\"dataframe\">\n",
       "  <thead>\n",
       "    <tr style=\"text-align: right;\">\n",
       "      <th></th>\n",
       "      <th>County</th>\n",
       "      <th>Year</th>\n",
       "      <th>Population</th>\n",
       "      <th>Index Count</th>\n",
       "      <th>Index Rate</th>\n",
       "      <th>Violent Count</th>\n",
       "      <th>Violent Rate</th>\n",
       "      <th>Property Count</th>\n",
       "      <th>Property Rate</th>\n",
       "      <th>Firearm Count</th>\n",
       "      <th>Firearm Rate</th>\n",
       "    </tr>\n",
       "  </thead>\n",
       "  <tbody>\n",
       "    <tr>\n",
       "      <th>0</th>\n",
       "      <td>Albany</td>\n",
       "      <td>2017</td>\n",
       "      <td>310352.0</td>\n",
       "      <td>8777</td>\n",
       "      <td>2828.1</td>\n",
       "      <td>1161</td>\n",
       "      <td>374.1</td>\n",
       "      <td>7616</td>\n",
       "      <td>2454.0</td>\n",
       "      <td>145.0</td>\n",
       "      <td>46.7</td>\n",
       "    </tr>\n",
       "    <tr>\n",
       "      <th>1</th>\n",
       "      <td>Allegany</td>\n",
       "      <td>2017</td>\n",
       "      <td>46878.0</td>\n",
       "      <td>507</td>\n",
       "      <td>1081.5</td>\n",
       "      <td>79</td>\n",
       "      <td>168.5</td>\n",
       "      <td>428</td>\n",
       "      <td>913.0</td>\n",
       "      <td>6.0</td>\n",
       "      <td>12.8</td>\n",
       "    </tr>\n",
       "    <tr>\n",
       "      <th>2</th>\n",
       "      <td>Bronx</td>\n",
       "      <td>2017</td>\n",
       "      <td>1470074.0</td>\n",
       "      <td>35507</td>\n",
       "      <td>2415.3</td>\n",
       "      <td>12534</td>\n",
       "      <td>852.6</td>\n",
       "      <td>22973</td>\n",
       "      <td>1562.7</td>\n",
       "      <td>1270.0</td>\n",
       "      <td>86.4</td>\n",
       "    </tr>\n",
       "    <tr>\n",
       "      <th>3</th>\n",
       "      <td>Broome</td>\n",
       "      <td>2017</td>\n",
       "      <td>194923.0</td>\n",
       "      <td>5568</td>\n",
       "      <td>2856.5</td>\n",
       "      <td>694</td>\n",
       "      <td>356.0</td>\n",
       "      <td>4874</td>\n",
       "      <td>2500.5</td>\n",
       "      <td>72.0</td>\n",
       "      <td>36.9</td>\n",
       "    </tr>\n",
       "    <tr>\n",
       "      <th>4</th>\n",
       "      <td>Cattaraugus</td>\n",
       "      <td>2017</td>\n",
       "      <td>75611.0</td>\n",
       "      <td>1158</td>\n",
       "      <td>1531.5</td>\n",
       "      <td>131</td>\n",
       "      <td>173.3</td>\n",
       "      <td>1027</td>\n",
       "      <td>1358.3</td>\n",
       "      <td>19.0</td>\n",
       "      <td>25.1</td>\n",
       "    </tr>\n",
       "  </tbody>\n",
       "</table>\n",
       "</div>"
      ],
      "text/plain": [
       "        County  Year  Population  Index Count  Index Rate  Violent Count  \\\n",
       "0       Albany  2017    310352.0         8777      2828.1           1161   \n",
       "1     Allegany  2017     46878.0          507      1081.5             79   \n",
       "2        Bronx  2017   1470074.0        35507      2415.3          12534   \n",
       "3       Broome  2017    194923.0         5568      2856.5            694   \n",
       "4  Cattaraugus  2017     75611.0         1158      1531.5            131   \n",
       "\n",
       "   Violent Rate  Property Count  Property Rate  Firearm Count  Firearm Rate  \n",
       "0         374.1            7616         2454.0          145.0          46.7  \n",
       "1         168.5             428          913.0            6.0          12.8  \n",
       "2         852.6           22973         1562.7         1270.0          86.4  \n",
       "3         356.0            4874         2500.5           72.0          36.9  \n",
       "4         173.3            1027         1358.3           19.0          25.1  "
      ]
     },
     "execution_count": 31,
     "metadata": {},
     "output_type": "execute_result"
    }
   ],
   "source": [
    "CrimeStudy.head()"
   ]
  },
  {
   "cell_type": "markdown",
   "metadata": {},
   "source": [
    "Next, we will be taking a look at the standard deviation of each rate from our data. By doing this, an actual number can be seen before each of these is graphed, presented in the circle graph below. As for why standard deviation was the chosen method of obtaining our average, it was thought to be the most accurate portrayal of the data. This being due to the wide range of numbers from each respective rate."
   ]
  },
  {
   "cell_type": "code",
   "execution_count": 6,
   "metadata": {},
   "outputs": [
    {
     "data": {
      "text/plain": [
       "1213.934259916833"
      ]
     },
     "execution_count": 6,
     "metadata": {},
     "output_type": "execute_result"
    }
   ],
   "source": [
    "np.std(CrimeStudy['Index Rate'], ddof=1)"
   ]
  },
  {
   "cell_type": "code",
   "execution_count": 21,
   "metadata": {},
   "outputs": [
    {
     "data": {
      "text/plain": [
       "300.25478623558905"
      ]
     },
     "execution_count": 21,
     "metadata": {},
     "output_type": "execute_result"
    }
   ],
   "source": [
    "np.std(CrimeStudy['Violent Rate'], ddof=1)"
   ]
  },
  {
   "cell_type": "code",
   "execution_count": 22,
   "metadata": {},
   "outputs": [
    {
     "data": {
      "text/plain": [
       "1004.8689942462833"
      ]
     },
     "execution_count": 22,
     "metadata": {},
     "output_type": "execute_result"
    }
   ],
   "source": [
    "np.std(CrimeStudy['Property Rate'], ddof=1)"
   ]
  },
  {
   "cell_type": "code",
   "execution_count": 23,
   "metadata": {},
   "outputs": [
    {
     "data": {
      "text/plain": [
       "85.78761980927499"
      ]
     },
     "execution_count": 23,
     "metadata": {},
     "output_type": "execute_result"
    }
   ],
   "source": [
    "np.std(CrimeStudy['Firearm Rate'], ddof=1)"
   ]
  },
  {
   "cell_type": "code",
   "execution_count": 54,
   "metadata": {},
   "outputs": [
    {
     "data": {
      "image/png": "[encoded data removed]",
      "text/plain": [
       "<Figure size 720x720 with 1 Axes>"
      ]
     },
     "metadata": {},
     "output_type": "display_data"
    }
   ],
   "source": [
    "labels = 'Index Rate', 'Violent Rate', 'Property Rate', 'Firearm Rate'\n",
    "sizes = [1213.93, 300.25, 1004.86, 85.78]\n",
    "colors = ['blue', 'orange', 'yellowgreen', 'red']\n",
    "plt.figure(figsize=(10,10))\n",
    "plt.pie(sizes, colors=colors, autopct='%1.1f%%')\n",
    "plt.legend(labels, loc='best')\n",
    "plt.axis('equal')\n",
    "plt.show()"
   ]
  },
  {
   "cell_type": "markdown",
   "metadata": {},
   "source": [
    "Ah yes, what you all came here for, other than if better writing would give us a more satisfying ending. What is the number one crime; a title not many would expect to hear given. Also, is it the one we expect?\n",
    "\n",
    "As you can see, firearm(gun) crimes are committed at quite the low rate overall when compared to the other three contenders here; index and property crimes leading the way. \"What could cause such an outcome?,\" we ask ourselves. With the seeming increase in gun violence, another report for another day, most people are likely to assume that gun crimes would reign supreme; however, index crimes are committed at a much higher rate here. A few theories as to why this is could be that index crimes are your general crimes that occur everyday, i.e traffic violations. With thhis assumption, it is more understandlable why this specific type of crime is so common. "
   ]
  },
  {
   "cell_type": "code",
   "execution_count": null,
   "metadata": {},
   "outputs": [],
   "source": []
  }
 ],
 "metadata": {
  "kernelspec": {
   "display_name": "Python 3",
   "language": "python",
   "name": "python3"
  },
  "language_info": {
   "codemirror_mode": {
    "name": "ipython",
    "version": 3
   },
   "file_extension": ".py",
   "mimetype": "text/x-python",
   "name": "python",
   "nbconvert_exporter": "python",
   "pygments_lexer": "ipython3",
   "version": "3.7.3"
  }
 },
 "nbformat": 4,
 "nbformat_minor": 2
}
